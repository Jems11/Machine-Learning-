{
 "cells": [
  {
   "cell_type": "markdown",
   "metadata": {},
   "source": [
    "# Python Exception Handling"
   ]
  },
  {
   "cell_type": "code",
   "execution_count": 1,
   "metadata": {},
   "outputs": [
    {
     "name": "stdout",
     "output_type": "stream",
     "text": [
      "name 'b' is not defined\n"
     ]
    }
   ],
   "source": [
    "try :\n",
    "    ## code block where exception can occure \n",
    "    a=b\n",
    "\n",
    "except Exception as ex:\n",
    "    ## saying msg \n",
    "    print(ex)"
   ]
  },
  {
   "cell_type": "code",
   "execution_count": 2,
   "metadata": {},
   "outputs": [
    {
     "name": "stdout",
     "output_type": "stream",
     "text": [
      "The user have not define the variable\n"
     ]
    }
   ],
   "source": [
    "try :\n",
    "    ## code block where exception can occure \n",
    "    a=b\n",
    "except NameError as ex1:\n",
    "    print(\"The user have not define the variable\")\n",
    "    \n",
    "except Exception as ex:\n",
    "    ## saying msg \n",
    "    print(ex)"
   ]
  },
  {
   "cell_type": "code",
   "execution_count": 5,
   "metadata": {},
   "outputs": [
    {
     "name": "stdout",
     "output_type": "stream",
     "text": [
      "unsupported operand type(s) for +: 'int' and 'str'\n"
     ]
    }
   ],
   "source": [
    "try:\n",
    "    a=1\n",
    "    b=\"s\"\n",
    "    c=a+b\n",
    "except NameError as ex1:\n",
    "    print(\"The use have not define varibale\")\n",
    "    \n",
    "except Exception as ex:\n",
    "    print(ex)"
   ]
  },
  {
   "cell_type": "code",
   "execution_count": 7,
   "metadata": {},
   "outputs": [
    {
     "name": "stdout",
     "output_type": "stream",
     "text": [
      "Try to make datatype similar\n"
     ]
    }
   ],
   "source": [
    "try:\n",
    "    a=1\n",
    "    b=\"s\"\n",
    "    c=a+b\n",
    "except NameError as ex1:\n",
    "    print(\"The use have not define varibale\")\n",
    "except TypeError:\n",
    "    print(\"Try to make datatype similar\")\n",
    "except Exception as ex:\n",
    "    print(ex)"
   ]
  },
  {
   "cell_type": "code",
   "execution_count": 19,
   "metadata": {},
   "outputs": [
    {
     "name": "stdout",
     "output_type": "stream",
     "text": [
      "Enter the number 1  12\n",
      "Enter the number 2  0\n",
      "Please provide number gretter than zero(0)\n"
     ]
    }
   ],
   "source": [
    "try:\n",
    "    a=int(input(\"Enter the number 1  \"))\n",
    "    b=int(input(\"Enter the number 2  \"))\n",
    "    c=a/b ##zero divion error\n",
    "    d=a*b\n",
    "    e=a+b\n",
    "    print(c)\n",
    "    print(d)\n",
    "    print(e)\n",
    "except NameError as ex1:\n",
    "    print(\"The use have not define varibale\")\n",
    "except ZeroDivisionError:\n",
    "    print(\"Please provide number gretter than zero(0)\")\n",
    "except TypeError:\n",
    "    print(\"Try to make datatype similar\")\n",
    "\n",
    "except Exception as ex:\n",
    "    print(ex)"
   ]
  },
  {
   "cell_type": "code",
   "execution_count": 13,
   "metadata": {},
   "outputs": [
    {
     "ename": "ZeroDivisionError",
     "evalue": "division by zero",
     "output_type": "error",
     "traceback": [
      "\u001b[1;31m---------------------------------------------------------------------------\u001b[0m",
      "\u001b[1;31mZeroDivisionError\u001b[0m                         Traceback (most recent call last)",
      "\u001b[1;32m<ipython-input-13-898e9759c56e>\u001b[0m in \u001b[0;36m<module>\u001b[1;34m\u001b[0m\n\u001b[1;32m----> 1\u001b[1;33m \u001b[1;36m12\u001b[0m\u001b[1;33m/\u001b[0m\u001b[1;36m0\u001b[0m\u001b[1;33m\u001b[0m\u001b[1;33m\u001b[0m\u001b[0m\n\u001b[0m",
      "\u001b[1;31mZeroDivisionError\u001b[0m: division by zero"
     ]
    }
   ],
   "source": [
    "12/0\n"
   ]
  },
  {
   "cell_type": "code",
   "execution_count": 2,
   "metadata": {},
   "outputs": [
    {
     "name": "stdout",
     "output_type": "stream",
     "text": [
      "Enter the number 1  12\n",
      "Enter the number 2  0\n",
      "Please provide number gretter than zero(0)\n"
     ]
    }
   ],
   "source": [
    "## try else \n",
    "try:\n",
    "    a=int(input(\"Enter the number 1  \"))\n",
    "    b=int(input(\"Enter the number 2  \"))\n",
    "    c=a/b ##zero divion error\n",
    "    d=a*b\n",
    "    e=a+b\n",
    "    \n",
    "except NameError as ex1:\n",
    "    print(\"The use have not define varibale\")\n",
    "except ZeroDivisionError:\n",
    "    print(\"Please provide number gretter than zero(0)\")\n",
    "except TypeError:\n",
    "    print(\"Try to make datatype similar\")\n",
    "\n",
    "except Exception as ex:\n",
    "    print(ex)\n",
    "else:\n",
    "    print(c)\n",
    "    print(d)\n",
    "    print(e)"
   ]
  },
  {
   "cell_type": "code",
   "execution_count": 4,
   "metadata": {},
   "outputs": [
    {
     "name": "stdout",
     "output_type": "stream",
     "text": [
      "Enter the number 1  12\n",
      "Enter the number 2  0\n",
      "Please provide number gretter than zero(0)\n",
      "The excution is done\n"
     ]
    }
   ],
   "source": [
    "## try else finally\n",
    "try:\n",
    "    a=int(input(\"Enter the number 1  \"))\n",
    "    b=int(input(\"Enter the number 2  \"))\n",
    "    c=a/b ##zero divion error\n",
    "    d=a*b\n",
    "    e=a+b\n",
    "    \n",
    "except NameError as ex1:\n",
    "    print(\"The use have not define varibale\")\n",
    "except ZeroDivisionError:\n",
    "    print(\"Please provide number gretter than zero(0)\")\n",
    "except TypeError:\n",
    "    print(\"Try to make datatype similar\")\n",
    "\n",
    "except Exception as ex:\n",
    "    print(ex)\n",
    "else:\n",
    "    print(c)\n",
    "    print(d)\n",
    "    print(e)\n",
    "finally:\n",
    "    print(\"The excution is done\")"
   ]
  },
  {
   "cell_type": "markdown",
   "metadata": {},
   "source": [
    "# Custom Exception"
   ]
  },
  {
   "cell_type": "code",
   "execution_count": 1,
   "metadata": {},
   "outputs": [],
   "source": [
    "class Error(Exception):\n",
    "    pass\n",
    "class dobException(Error):\n",
    "    pass"
   ]
  },
  {
   "cell_type": "code",
   "execution_count": 5,
   "metadata": {},
   "outputs": [
    {
     "name": "stdout",
     "output_type": "stream",
     "text": [
      "Enter the year of birth:1888\n",
      "your age is not valid,you can't aplly for the exam\n"
     ]
    }
   ],
   "source": [
    "year=int(input(\"Enter the year of birth:\"))\n",
    "age=2021-year\n",
    "try:\n",
    "    if age<=30 & age>20:\n",
    "        print(\"The age is valid ,you can apply for the exam\")\n",
    "        pass\n",
    "    else:\n",
    "        raise dobException\n",
    "except dobException:\n",
    "        print(\"your age is not valid,you can't aplly for the exam\")\n",
    "    "
   ]
  },
  {
   "cell_type": "code",
   "execution_count": null,
   "metadata": {},
   "outputs": [],
   "source": []
  }
 ],
 "metadata": {
  "kernelspec": {
   "display_name": "Python 3",
   "language": "python",
   "name": "python3"
  },
  "language_info": {
   "codemirror_mode": {
    "name": "ipython",
    "version": 3
   },
   "file_extension": ".py",
   "mimetype": "text/x-python",
   "name": "python",
   "nbconvert_exporter": "python",
   "pygments_lexer": "ipython3",
   "version": "3.8.3"
  }
 },
 "nbformat": 4,
 "nbformat_minor": 4
}
